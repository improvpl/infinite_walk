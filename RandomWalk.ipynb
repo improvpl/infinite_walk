{
 "cells": [
  {
   "cell_type": "code",
   "execution_count": 1,
   "metadata": {},
   "outputs": [],
   "source": [
    "import random\n",
    "import numpy as np\n",
    "from matplotlib.pyplot import figure\n",
    "#import itertools\n",
    "import numpy as np\n",
    "from numpy import array\n",
    "import matplotlib.pyplot as plt\n",
    "import random"
   ]
  },
  {
   "cell_type": "code",
   "execution_count": 2,
   "metadata": {},
   "outputs": [],
   "source": [
    "directions = {'north':[1,0],'south':[-1,0],'east':[0,1],'west':[0,-1]}"
   ]
  },
  {
   "cell_type": "code",
   "execution_count": 3,
   "metadata": {},
   "outputs": [
    {
     "name": "stdout",
     "output_type": "stream",
     "text": [
      "Steps:100\n"
     ]
    }
   ],
   "source": [
    "steps = input(\"Steps:\")\n",
    "\n",
    "n_map = [[0]] #row:0, column:1\n",
    "\n",
    "all_w = []\n",
    "all_h = []\n",
    "\n",
    "cur_pos = [0,0]\n",
    "for step in range(0,int(steps)):\n",
    "    dir_m = list(directions.keys())\n",
    "    compass = random.choices(dir_m, [0.25,0.25,0.25,0.25])\n",
    "    move = directions[compass[0]]\n",
    "    width = move[0]\n",
    "    height = move[1]\n",
    "    cur_pos[0]+=width\n",
    "    cur_pos[1]+=height\n",
    "    \n",
    "    new_width = cur_pos[0]\n",
    "    new_height = cur_pos[1]\n",
    "    all_w.append(new_width)\n",
    "    #print(new_width, new_height)\n",
    "    all_h.append(new_height)\n",
    "    \n",
    "row_dimensions = (min(all_w),max(all_w))\n",
    "height_dimensions = (min(all_h),max(all_h))"
   ]
  },
  {
   "cell_type": "code",
   "execution_count": 4,
   "metadata": {},
   "outputs": [],
   "source": [
    "row = {a:count  for count, a in enumerate(list(range(row_dimensions[0],row_dimensions[1]+1)))}\n",
    "height = {a:count for count, a in enumerate(list(range(height_dimensions[0],height_dimensions[1]+1)))}"
   ]
  },
  {
   "cell_type": "code",
   "execution_count": 5,
   "metadata": {},
   "outputs": [],
   "source": [
    "#print(row)\n",
    "#print(height)"
   ]
  },
  {
   "cell_type": "code",
   "execution_count": 6,
   "metadata": {},
   "outputs": [],
   "source": [
    "g_map = []\n",
    "for dimension, index in height.items():\n",
    "    g_map.append([0 for a in list(range(0,len(row)))])"
   ]
  },
  {
   "cell_type": "code",
   "execution_count": 7,
   "metadata": {},
   "outputs": [],
   "source": [
    "for count, w in enumerate(all_w):\n",
    "    #print(all_w[count],all_h[count])\n",
    "    w_x = row[all_w[count]]\n",
    "    h_x = height[all_h[count]]\n",
    "    try:\n",
    "        g_map[h_x][w_x]+=1\n",
    "    except Exception as ee:\n",
    "        print(ee)"
   ]
  },
  {
   "cell_type": "code",
   "execution_count": 8,
   "metadata": {},
   "outputs": [
    {
     "name": "stdout",
     "output_type": "stream",
     "text": [
      "[[0 0 0 0 0 1 0 0 0 0]\n",
      " [0 0 0 3 4 3 1 0 1 0]\n",
      " [0 0 0 3 3 1 0 1 2 1]\n",
      " [0 1 1 2 1 2 0 2 2 0]\n",
      " [0 1 0 0 1 2 1 1 1 0]\n",
      " [1 3 2 5 3 3 1 0 0 0]\n",
      " [1 2 4 7 4 2 0 0 0 0]\n",
      " [0 1 3 1 1 0 0 0 0 0]\n",
      " [0 1 4 3 0 0 0 0 0 0]\n",
      " [0 0 2 3 0 0 0 0 0 0]\n",
      " [0 0 0 1 0 0 0 0 0 0]]\n"
     ]
    },
    {
     "data": {
      "image/png": "[encoded data removed]",
      "text/plain": [
       "<Figure size 432x288 with 2 Axes>"
      ]
     },
     "metadata": {
      "needs_background": "light"
     },
     "output_type": "display_data"
    }
   ],
   "source": [
    "newList = g_map\n",
    "\n",
    "#Convert to 50 x 100 numpy array\n",
    "nArray = array(newList)\n",
    "print(nArray)\n",
    "\n",
    "#a11=nArray.reshape(50,100)\n",
    "plt.imshow(nArray, cmap='hot')\n",
    "plt.colorbar()\n",
    "#plt.figure(num=None, figsize=(8, 6), dpi=80, facecolor='w', edgecolor='k')\n",
    "plt.rcParams[\"figure.figsize\"] = (100,100)\n",
    "plt\n",
    "plt.show()"
   ]
  },
  {
   "cell_type": "code",
   "execution_count": null,
   "metadata": {},
   "outputs": [],
   "source": []
  }
 ],
 "metadata": {
  "kernelspec": {
   "display_name": "Python 3",
   "language": "python",
   "name": "python3"
  },
  "language_info": {
   "codemirror_mode": {
    "name": "ipython",
    "version": 3
   },
   "file_extension": ".py",
   "mimetype": "text/x-python",
   "name": "python",
   "nbconvert_exporter": "python",
   "pygments_lexer": "ipython3",
   "version": "3.7.5"
  }
 },
 "nbformat": 4,
 "nbformat_minor": 2
}
